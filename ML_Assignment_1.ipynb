{
 "cells": [
  {
   "cell_type": "code",
   "execution_count": 12,
   "id": "aea210a6",
   "metadata": {},
   "outputs": [],
   "source": [
    "import numpy as np\n",
    "import matplotlib.pyplot as plt"
   ]
  },
  {
   "cell_type": "code",
   "execution_count": 13,
   "id": "6b7968de",
   "metadata": {},
   "outputs": [
    {
     "data": {
      "text/plain": [
       "array([19, 18, 14, 12,  6,  7,  8, 13,  6, 12, 15, 16,  9, 19,  4])"
      ]
     },
     "execution_count": 13,
     "metadata": {},
     "output_type": "execute_result"
    }
   ],
   "source": [
    "# a. random vector of length 15 in range 1 to 20\n",
    "random_vector = np.random.randint(1, 20, size=15)\n",
    "random_vector"
   ]
  },
  {
   "cell_type": "code",
   "execution_count": 14,
   "id": "438c3d75",
   "metadata": {},
   "outputs": [
    {
     "name": "stdout",
     "output_type": "stream",
     "text": [
      "Reshaped Array:  [[19 18 14 12  6]\n",
      " [ 7  8 13  6 12]\n",
      " [15 16  9 19  4]]\n",
      "Array Shape:  (3, 5)\n"
     ]
    }
   ],
   "source": [
    "#reshape the array to 3X5\n",
    "reshaped_random_vector = random_vector.reshape(3,5)\n",
    "print(\"Reshaped Array: \", reshaped_random_vector)\n",
    "print(\"Array Shape: \", reshaped_random_vector.shape)"
   ]
  },
  {
   "cell_type": "code",
   "execution_count": 15,
   "id": "23007fd5",
   "metadata": {},
   "outputs": [
    {
     "name": "stdout",
     "output_type": "stream",
     "text": [
      "[[ 0 18 14 12  6]\n",
      " [ 7  8  0  6 12]\n",
      " [15 16  9  0  4]]\n"
     ]
    }
   ],
   "source": [
    "max_indices = np.argmax(reshaped_random_vector, axis=1)\n",
    "for i in range(len(max_indices)):\n",
    "    reshaped_random_vector[i:i+1, max_indices[i]:max_indices[i]+1] = 0\n",
    "print(reshaped_random_vector)"
   ]
  },
  {
   "cell_type": "code",
   "execution_count": 22,
   "id": "ad859116",
   "metadata": {},
   "outputs": [
    {
     "name": "stdout",
     "output_type": "stream",
     "text": [
      "[[12 11  2]\n",
      " [ 7  3 16]\n",
      " [19  4 10]\n",
      " [10 11  3]]\n"
     ]
    }
   ],
   "source": [
    "random_vector1 = np.random.randint(20, size=(4, 3))\n",
    "print(random_vector1)\n",
    "print(\"Array Shape :\", random_vector1.shape)\n",
    "print(\"Array type :\", type(random_vector1))\n",
    "print(\"Array Shape :\", random_vector1.shape)"
   ]
  },
  {
   "cell_type": "code",
   "execution_count": 16,
   "id": "0e313d20",
   "metadata": {},
   "outputs": [],
   "source": [
    "# b. eigen values and vectors\n",
    "\n",
    "array = np.array([[3, -2], [1, 0]])\n",
    "eigen_values, eigen_vectors = np.linalg.eig(array)"
   ]
  },
  {
   "cell_type": "code",
   "execution_count": 17,
   "id": "3dec4e0c",
   "metadata": {},
   "outputs": [
    {
     "name": "stdout",
     "output_type": "stream",
     "text": [
      "Eigen Values : [2. 1.]\n",
      "Eigen Vector : [[0.89442719 0.70710678]\n",
      " [0.4472136  0.70710678]]\n"
     ]
    }
   ],
   "source": [
    "print(\"Eigen Values :\", eigen_values)\n",
    "print(\"Eigen Vector :\", eigen_vectors)"
   ]
  },
  {
   "cell_type": "code",
   "execution_count": 18,
   "id": "5b118503",
   "metadata": {},
   "outputs": [
    {
     "name": "stdout",
     "output_type": "stream",
     "text": [
      "Diagonal sum : 4\n"
     ]
    }
   ],
   "source": [
    "# c. sum of diagonal elements\n",
    "\n",
    "array1 = np.array([[0, 1, 2], [3, 4, 5]])\n",
    "diagonal_sum = array1.diagonal().sum()\n",
    "print(\"Diagonal sum :\", diagonal_sum)"
   ]
  },
  {
   "cell_type": "code",
   "execution_count": 19,
   "id": "406d62c5",
   "metadata": {},
   "outputs": [
    {
     "name": "stdout",
     "output_type": "stream",
     "text": [
      "[[1 2 3]\n",
      " [4 5 6]]\n"
     ]
    }
   ],
   "source": [
    "# d. reshape array\n",
    "\n",
    "array2 = np.array([[1, 2], [3, 4], [5, 6]])\n",
    "reshaped_array2 = array2.reshape(2,3)\n",
    "print(reshaped_array2)"
   ]
  },
  {
   "cell_type": "code",
   "execution_count": 20,
   "id": "f363f509",
   "metadata": {},
   "outputs": [],
   "source": [
    "# 2. Popularity of programming languages\n",
    "\n",
    "languages = [\"Java\", \"Python\", \"PHP\", \"JavaScript\", \"C#\", \"C++\"]\n",
    "popularity =[22.2, 17.6, 8.8, 8, 7.7, 6.7]\n",
    "explode = [0.08, 0, 0, 0, 0, 0]"
   ]
  },
  {
   "cell_type": "code",
   "execution_count": 21,
   "id": "45b8b932",
   "metadata": {},
   "outputs": [
    {
     "data": {
      "image/png": "[encoded data removed]",
      "text/plain": [
       "<Figure size 432x288 with 1 Axes>"
      ]
     },
     "metadata": {},
     "output_type": "display_data"
    }
   ],
   "source": [
    "plt.pie(popularity, labels=languages, startangle=130, explode = explode, shadow=True, autopct='%1.1f%%')\n",
    "plt.show()"
   ]
  },
  {
   "cell_type": "code",
   "execution_count": null,
   "id": "a78a536a",
   "metadata": {},
   "outputs": [],
   "source": []
  },
  {
   "cell_type": "code",
   "execution_count": null,
   "id": "55b3c0d7",
   "metadata": {},
   "outputs": [],
   "source": []
  }
 ],
 "metadata": {
  "kernelspec": {
   "display_name": "Python 3 (ipykernel)",
   "language": "python",
   "name": "python3"
  },
  "language_info": {
   "codemirror_mode": {
    "name": "ipython",
    "version": 3
   },
   "file_extension": ".py",
   "mimetype": "text/x-python",
   "name": "python",
   "nbconvert_exporter": "python",
   "pygments_lexer": "ipython3",
   "version": "3.9.12"
  }
 },
 "nbformat": 4,
 "nbformat_minor": 5
}
